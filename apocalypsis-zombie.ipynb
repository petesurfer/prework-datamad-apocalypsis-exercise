{
 "cells": [
  {
   "cell_type": "markdown",
   "metadata": {},
   "source": [
    "# Apocalipsis zombie\n",
    "\n",
    "![](./images/thewalkingdead.jpeg)\n",
    "\n",
    "Cargas un arsenal de armas y una mochila con cargadores de munición de tamaño variable para algunos tipos de armas. ¿Cuántos zombies puedes matar antes de tener que echar a correr por tu vida? Deberás imprimir el resultado de cada caso que corresponde al número de balas que tienes de las armas que cargas.  \n",
    "\n",
    "ALGORITMO: Por cada arma diferente que cargas, tienes que comprobar si portas cargadores para ella. Si esto es afirmativo deberás sumar el total de balas que podrás disparar. "
   ]
  },
  {
   "cell_type": "markdown",
   "metadata": {},
   "source": [
    "## Caso 0: Ejemplo simple"
   ]
  },
  {
   "cell_type": "code",
   "execution_count": 39,
   "metadata": {},
   "outputs": [
    {
     "name": "stdout",
     "output_type": "stream",
     "text": [
      "El arma pistola tiene 2 cargadores\n",
      "El arma escopeta tiene 5 cargadores\n",
      "El numero total de balas disponibles es:  30\n"
     ]
    }
   ],
   "source": [
    "armas = ['pistola','escopeta']\n",
    "\n",
    "cargadores = {\n",
    "    'pistola': [10, 10], \n",
    "    'escopeta': [2, 2, 2, 2, 2]\n",
    "}\n",
    "\n",
    "NumeroBalasTotal=0\n",
    "for arma in armas:\n",
    "    print (\"El arma\",arma,\"tiene\",len(cargadores[arma]), \"cargadores\")\n",
    "    if(len(cargadores[arma])) > 0:\n",
    "        for cargador in cargadores[arma]:\n",
    "            NumeroBalasTotal=NumeroBalasTotal + cargador\n",
    "print (\"El numero total de balas disponibles es: \", NumeroBalasTotal)\n",
    "    \n"
   ]
  },
  {
   "cell_type": "markdown",
   "metadata": {},
   "source": [
    "**Output esperado** -> 30"
   ]
  },
  {
   "cell_type": "markdown",
   "metadata": {},
   "source": [
    "## Caso 1: Mismas armas que municiones"
   ]
  },
  {
   "cell_type": "code",
   "execution_count": 40,
   "metadata": {},
   "outputs": [
    {
     "name": "stdout",
     "output_type": "stream",
     "text": [
      "El arma pistola tiene 6 cargadores\n",
      "El arma ametralladora tiene 2 cargadores\n",
      "El arma escopeta tiene 4 cargadores\n",
      "El arma fusil de francotirador tiene 3 cargadores\n",
      "El numero total de balas disponibles es:  158\n"
     ]
    }
   ],
   "source": [
    "armas = ['pistola', 'ametralladora', 'escopeta', 'fusil de francotirador']\n",
    "\n",
    "cargadores = {\n",
    "    'pistola': [12, 13, 4, 5, 20, 17], \n",
    "    'ametralladora': [33, 40], \n",
    "    'escopeta': [2, 2, 2, 1], \n",
    "    'fusil de francotirador': [1, 2, 4]\n",
    "}\n",
    "\n",
    "NumeroBalasTotal=0\n",
    "for arma in armas:\n",
    "    if arma in cargadores:\n",
    "        print (\"El arma\",arma,\"tiene\",len(cargadores[arma]), \"cargadores\")\n",
    "        if(len(cargadores[arma])) > 0:\n",
    "            for cargador in cargadores[arma]:\n",
    "                NumeroBalasTotal=NumeroBalasTotal + cargador\n",
    "    else:\n",
    "        print (\"El arma\",armam, \"tiene 0 cargadores\")\n",
    "print (\"El numero total de balas disponibles es: \", NumeroBalasTotal)\n",
    "    "
   ]
  },
  {
   "cell_type": "markdown",
   "metadata": {},
   "source": [
    "## Caso 2: Más tipos de munición que armas"
   ]
  },
  {
   "cell_type": "code",
   "execution_count": 41,
   "metadata": {},
   "outputs": [
    {
     "name": "stdout",
     "output_type": "stream",
     "text": [
      "El arma pistola tiene 6 cargadores\n",
      "El arma ametralladora tiene 2 cargadores\n",
      "El arma escopeta tiene 4 cargadores\n",
      "El arma fusil de francotirador tiene 3 cargadores\n",
      "El numero total de balas disponibles es:  158\n"
     ]
    }
   ],
   "source": [
    "armas = ['pistola', 'ametralladora', 'escopeta', 'fusil de francotirador']\n",
    "\n",
    "cargadores = {\n",
    "    'pistola': [12, 13, 4, 5, 20, 17], \n",
    "    'ametralladora': [33, 40], \n",
    "    'escopeta': [2, 2, 2, 1], \n",
    "    'fusil de francotirador': [1, 2, 4], \n",
    "    'bazoka': [1, 1]\n",
    "}\n",
    "\n",
    "NumeroBalasTotal=0\n",
    "for arma in armas:\n",
    "    if arma in cargadores:\n",
    "        print (\"El arma\",arma,\"tiene\",len(cargadores[arma]), \"cargadores\")\n",
    "        if(len(cargadores[arma])) > 0:\n",
    "            for cargador in cargadores[arma]:\n",
    "                NumeroBalasTotal=NumeroBalasTotal + cargador\n",
    "print (\"El numero total de balas disponibles es: \", NumeroBalasTotal)\n",
    "    "
   ]
  },
  {
   "cell_type": "markdown",
   "metadata": {},
   "source": [
    "## Caso 3: Más armas que tipos de munición"
   ]
  },
  {
   "cell_type": "code",
   "execution_count": 42,
   "metadata": {},
   "outputs": [
    {
     "name": "stdout",
     "output_type": "stream",
     "text": [
      "El arma pistola tiene 6 cargadores\n",
      "El arma ametralladora tiene 2 cargadores\n",
      "El arma escopeta tiene 4 cargadores\n",
      "El arma fusil de francotirador tiene 0 cargadores\n",
      "El numero total de balas disponibles es:  151\n"
     ]
    }
   ],
   "source": [
    "armas = ['pistola', 'ametralladora', 'escopeta', 'fusil de francotirador']\n",
    "\n",
    "cargadores = {\n",
    "    'pistola': [12, 13, 4, 5, 20, 17], \n",
    "    'ametralladora': [33, 40], \n",
    "    'escopeta': [2, 2, 2, 1] \n",
    "}\n",
    "\n",
    "\n",
    "NumeroBalasTotal=0\n",
    "for arma in armas:\n",
    "    if arma in cargadores:\n",
    "        print (\"El arma\",arma,\"tiene\",len(cargadores[arma]), \"cargadores\")\n",
    "        if(len(cargadores[arma])) > 0:\n",
    "            for cargador in cargadores[arma]:\n",
    "                NumeroBalasTotal=NumeroBalasTotal + cargador\n",
    "    else:\n",
    "        print (\"El arma\",arma, \"tiene 0 cargadores\")\n",
    "print (\"El numero total de balas disponibles es: \", NumeroBalasTotal)\n",
    "    "
   ]
  },
  {
   "cell_type": "code",
   "execution_count": null,
   "metadata": {},
   "outputs": [],
   "source": []
  }
 ],
 "metadata": {
  "kernelspec": {
   "display_name": "Python 3",
   "language": "python",
   "name": "python3"
  },
  "language_info": {
   "codemirror_mode": {
    "name": "ipython",
    "version": 3
   },
   "file_extension": ".py",
   "mimetype": "text/x-python",
   "name": "python",
   "nbconvert_exporter": "python",
   "pygments_lexer": "ipython3",
   "version": "3.7.3"
  }
 },
 "nbformat": 4,
 "nbformat_minor": 2
}
